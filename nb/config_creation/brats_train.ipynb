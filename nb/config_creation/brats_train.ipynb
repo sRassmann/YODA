{
 "cells": [
  {
   "cell_type": "code",
   "id": "initial_id",
   "metadata": {
    "collapsed": true
   },
   "source": [
    "import json\n",
    "import os\n",
    "from glob import glob\n",
    "import pandas as pd"
   ],
   "outputs": [],
   "execution_count": null
  },
  {
   "metadata": {},
   "cell_type": "markdown",
   "source": [
    "For the main training we use the combined BraTS23 training + validation data.\n",
    "\n",
    "To obtain a test set, (1) unseen for the downstream model derived from BraTS20 and (2) with labels publicly available, we sample 200 cases from the fraction of training data (i.e. wih ground truth labels) that was added after 2020."
   ],
   "id": "152b908c76e35fd8"
  },
  {
   "metadata": {},
   "cell_type": "code",
   "source": [
    "df = pd.read_csv(\"/path/to/BraTS23/BraTS2023_2017_GLI_Mapping.csv\")\n",
    "new = df.query(\"BraTS2020 != BraTS2020\")\n",
    "# sample 200 cases\n",
    "new = new.sample(200, random_state=42)\n",
    "new"
   ],
   "id": "a5032ec40bc35389",
   "outputs": [],
   "execution_count": null
  },
  {
   "metadata": {
    "ExecuteTime": {
     "end_time": "2024-09-30T07:18:56.042146Z",
     "start_time": "2024-09-30T07:18:55.067298Z"
    }
   },
   "cell_type": "code",
   "source": [
    "path = \"/path/to/BraTS23/conformed\"\n",
    "subjs= os.listdir(path)\n",
    "\n",
    "train, val = [] , []\n",
    "val_subjs = list(new.BraTS2023)\n",
    "\n",
    "for s in subjs:\n",
    "    \n",
    "    d = {\n",
    "        \"subject_ID\" : s,\n",
    "        \"flair\" : os.path.join(s, \"FLAIR.nii.gz\"),\n",
    "        \"t1\" : os.path.join(s, \"T1.nii.gz\"),\n",
    "        \"t1ce\" : os.path.join(s, \"t1gd.nii.gz\"),\n",
    "        \"t2\" : os.path.join(s, \"T2.nii.gz\"),\n",
    "        \"mask\" : os.path.join(s, \"t1.nii.gz\"),\n",
    "    }\n",
    "    \n",
    "    if s in val_subjs:\n",
    "        val.append(d)\n",
    "    else:\n",
    "        train.append(d)\n",
    "        \n",
    "files = {\"training\" : train, \"validation\" : val}    \n",
    "    \n",
    "# write to json\n",
    "output_file_path = \"../data/BraTS/brats23_train.json\"\n",
    "with open(output_file_path, \"w\") as f:\n",
    "    json.dump(files, f)\n",
    "print(len(files[\"validation\"]))"
   ],
   "id": "e0bdf27b78de3ab0",
   "outputs": [
    {
     "name": "stdout",
     "output_type": "stream",
     "text": [
      "200\n"
     ]
    }
   ],
   "execution_count": 52
  },
  {
   "metadata": {},
   "cell_type": "markdown",
   "source": "For model optimization, we used the usual validation data from BraTS23 as we do not require labels.",
   "id": "bc151b7f599cc194"
  },
  {
   "metadata": {},
   "cell_type": "code",
   "outputs": [],
   "execution_count": null,
   "source": [
    "train, val = [] , []\n",
    "val_subjs = os.listdir(\"/path/to/ASNR-MICCAI-BraTS2023-GLI-Challenge-ValidationData\")\n",
    "\n",
    "for s in subjs:\n",
    "\n",
    "    d = {\n",
    "        \"subject_ID\" : s,\n",
    "        \"flair\" : os.path.join(s, \"FLAIR.nii.gz\"),\n",
    "        \"t1\" : os.path.join(s, \"T1.nii.gz\"),\n",
    "        \"t1ce\" : os.path.join(s, \"t1gd.nii.gz\"),\n",
    "        \"t2\" : os.path.join(s, \"T2.nii.gz\"),\n",
    "        \"mask\" : os.path.join(s, \"t1.nii.gz\"),  # note that is already skull-stipped, the image itself is the brain mask\n",
    "    }\n",
    "\n",
    "    if s in val_subjs:\n",
    "        val.append(d)\n",
    "    else:\n",
    "        train.append(d)\n",
    "\n",
    "files = {\"training\" : train, \"validation\" : val}\n",
    "\n",
    "# write to json\n",
    "output_file_path = \"../data/BraTS/brats23_train.json\"\n",
    "with open(output_file_path, \"w\") as f:\n",
    "    json.dump(files, f)\n",
    "print(len(files[\"validation\"]))"
   ],
   "id": "e7510727813598e8"
  }
 ],
 "metadata": {
  "kernelspec": {
   "display_name": "Python 3",
   "language": "python",
   "name": "python3"
  },
  "language_info": {
   "codemirror_mode": {
    "name": "ipython",
    "version": 2
   },
   "file_extension": ".py",
   "mimetype": "text/x-python",
   "name": "python",
   "nbconvert_exporter": "python",
   "pygments_lexer": "ipython2",
   "version": "2.7.6"
  }
 },
 "nbformat": 4,
 "nbformat_minor": 5
}
